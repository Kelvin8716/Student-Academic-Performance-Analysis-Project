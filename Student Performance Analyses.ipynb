{
 "cells": [
  {
   "cell_type": "markdown",
   "id": "7228e34f",
   "metadata": {},
   "source": [
    "# Student Performance Analyses"
   ]
  },
  {
   "cell_type": "markdown",
   "id": "ee68099d",
   "metadata": {},
   "source": [
    "![Classroom Pic](Classroom.jpg)"
   ]
  },
  {
   "cell_type": "markdown",
   "id": "8ef740cc",
   "metadata": {},
   "source": [
    "# Overview"
   ]
  },
  {
   "cell_type": "markdown",
   "id": "1fa1fc92",
   "metadata": {},
   "source": [
    "Student performance in schools is a pivotal indicator of future prospects of individuals and societies. High levels of academic success are often correlated with better quality of life outcomes, such as higher levels of employment, better health and better problem-solving skills. In the context of schools, student performance serves as a way as a lens into the overall health of society. I found this comprehensive dataset from Kaggle, which provides different variables related to student performance, such as family background, health, parental education, size of family and more.\n",
    "\n",
    "This project is devoted to gathering insights about the impact of multitude of factors for student performance. In my personal life, I am a huge supporter of devoting time to support teenagers and young adults in excelling at school. I am very involved in national non-profits such as iMentor and Big Brothers Big Sisters where I aim to develop positive relationships that have a direct and lasting effect on the lives of young people. As a mentor to two high school students, I can confidently say that these programs are greatly beneficial to the wellbeing of the students enrolled.\n",
    "\n",
    "I think it's important to study how student performance is related to different educational outcomes. We can use these analyses to identify trends, variances, and patterns that may not be easily visible through day-to-day evidence. As we've seen through the COVID-19 pandemic, the educational landscape is constantly changing. Prior to the pandemic, I never have guessed that millions, perhaps billions, would be learning through platforms like Google Classroom and Zoom. By leveraging datasets, we can make informed decisions about how different variables impact the way students perform."
   ]
  },
  {
   "cell_type": "markdown",
   "id": "52086270",
   "metadata": {},
   "source": [
    "# Problem Statement"
   ]
  },
  {
   "cell_type": "markdown",
   "id": "3d5773f3",
   "metadata": {},
   "source": [
    "My goal is to understand how certain variables impact student academic performance. This Kaggle dataset contains 33 variables such as demographic information, family background, leisure time, travel time, and more to identify predictors of academic success. I'm focused on understanding which specific factors contribute to academic success in students, as measured by their grades."
   ]
  },
  {
   "cell_type": "markdown",
   "id": "84fd2ab5",
   "metadata": {},
   "source": [
    "# Initial Hypothesis"
   ]
  },
  {
   "cell_type": "markdown",
   "id": "61e53557",
   "metadata": {},
   "source": [
    "My initial hypothesis is fairly rudimentary. I believe that certain factors such as family educational support, school absences, parent's education, have a significant impact on student performance. I think it's safe to assume that students who have access to quality educational resources alongside positive lifestyle choices will exhibit better academic performance. I'm hoping to test my hypothesis with the data found in this dataset to see if my assumption is correct or not."
   ]
  },
  {
   "cell_type": "markdown",
   "id": "240f0145",
   "metadata": {},
   "source": [
    "# Data Overview"
   ]
  },
  {
   "cell_type": "markdown",
   "id": "aa58e1b4",
   "metadata": {},
   "source": [
    "| Variable    | Description                                                                                     |\n",
    "|:-------------|:-------------------------------------------------------------------------------------------------|\n",
    "| `school`    | Student's school (binary: 'GP' or 'MS'              |\n",
    "| `sex`       | Student's sex (binary: 'F' - female or 'M' - male)                                              |\n",
    "| `age`       | Student's age (numeric: from 15 to 22)                                                          |\n",
    "| `address`   | Student's home address type (binary: 'U' - urban or 'R' - rural)                                |\n",
    "| `famsize`   | Family size (binary: ‘LE3’ - less or equal to 3 or ‘GT3’ - greater than 3)                      |\n",
    "| `Pstatus`   | Parent’s cohabitation status (binary: ‘T’ - living together or ‘A’ - apart)                     |\n",
    "| `Medu`      | Mother’s education (numeric: 0 - none, 1 - primary education (4th grade), etc.)                 |\n",
    "| `Fedu`      | Father’s education (numeric: 0 - none, 1 - primary education (4th grade), etc.)                 |\n",
    "| `Mjob`      | Mother’s job (nominal: ‘teacher’, ‘health’ care related, etc.)                                  |\n",
    "| `Fjob`      | Father’s job (nominal: ‘teacher’, ‘health’ care related, etc.)                                  |\n",
    "| `reason`    | Reason to choose this school (nominal: close to ‘home’, school ‘reputation’, etc.)              |\n",
    "| `guardian`  | Student’s guardian (nominal: ‘mother’, ‘father’ or ‘other’)                                     |\n",
    "| `traveltime`| Home to school travel time (numeric: 1 - <15 min., 2 - 15 to 30 min., etc.)                     |\n",
    "| `studytime` | Weekly study time (numeric: 1 - <2 hours, 2 - 2 to 5 hours, etc.)                               |\n",
    "| `failures`  | Number of past class failures (numeric: n if 1<=n<3, else 4)                                    |\n",
    "| `schoolsup` | Extra educational support (binary: yes or no)                                                  |\n",
    "| `famsup`    | Family educational support (binary: yes or no)                                                 |\n",
    "| `paid`      | Extra paid classes within the course subject (binary: yes or no)                   |\n",
    "| `activities`| Extra-curricular activities (binary: yes or no)                                                |\n",
    "| `nursery`   | Attended nursery school (binary: yes or no)                                                    |\n",
    "| `higher`    | Wants to take higher education (binary: yes or no)                                             |\n",
    "| `internet`  | Internet access at home (binary: yes or no)                                                    |\n",
    "| `romantic`  | With a romantic relationship (binary: yes or no)                                               |\n",
    "| `famrel`    | Quality of family relationships (numeric: from 1 - very bad to 5 - excellent)                  |\n",
    "| `freetime`  | Free time after school (numeric: from 1 - very low to 5 - very high)                           |\n",
    "| `goout`     | Going out with friends (numeric: from 1 - very low to 5 - very high)                           |\n",
    "| `Dalc`      | Workday alcohol consumption (numeric: from 1 - very low to 5 - very high)                      |\n",
    "| `Walc`      | Weekend alcohol consumption (numeric: from 1 - very low to 5 - very high)                      |\n",
    "| `health`    | Current health status (numeric: from 1 - very bad to 5 - very good)                            |\n",
    "| `absences`  | Number of school absences (numeric: from 0 to 93)                                              |\n",
    "| `G1`        | First period grade (numeric: from 0 to 20)                                                     |\n",
    "| `G2`        | Second period grade (numeric: from 0 to 20)                                                    |\n",
    "| `G3`        | Final grade (numeric: from 0 to 20, output target) "
   ]
  },
  {
   "cell_type": "code",
   "execution_count": 1,
   "id": "421b0fc6",
   "metadata": {},
   "outputs": [],
   "source": [
    "from scipy import stats\n",
    "from statsmodels.formula.api import ols\n",
    "import numpy as np\n",
    "import pandas as pd\n",
    "import pandas.tseries\n",
    "import statsmodels.api as sm\n",
    "import matplotlib.pyplot as plt\n",
    "import matplotlib as matplotlib\n",
    "import seaborn as sns\n",
    "import statsmodels.api as sm"
   ]
  },
  {
   "cell_type": "code",
   "execution_count": 2,
   "id": "5c8bc6c6",
   "metadata": {},
   "outputs": [
    {
     "data": {
      "text/html": [
       "<div>\n",
       "<style scoped>\n",
       "    .dataframe tbody tr th:only-of-type {\n",
       "        vertical-align: middle;\n",
       "    }\n",
       "\n",
       "    .dataframe tbody tr th {\n",
       "        vertical-align: top;\n",
       "    }\n",
       "\n",
       "    .dataframe thead th {\n",
       "        text-align: right;\n",
       "    }\n",
       "</style>\n",
       "<table border=\"1\" class=\"dataframe\">\n",
       "  <thead>\n",
       "    <tr style=\"text-align: right;\">\n",
       "      <th></th>\n",
       "      <th>school</th>\n",
       "      <th>sex</th>\n",
       "      <th>age</th>\n",
       "      <th>address</th>\n",
       "      <th>famsize</th>\n",
       "      <th>Pstatus</th>\n",
       "      <th>Medu</th>\n",
       "      <th>Fedu</th>\n",
       "      <th>Mjob</th>\n",
       "      <th>Fjob</th>\n",
       "      <th>...</th>\n",
       "      <th>famrel</th>\n",
       "      <th>freetime</th>\n",
       "      <th>goout</th>\n",
       "      <th>Dalc</th>\n",
       "      <th>Walc</th>\n",
       "      <th>health</th>\n",
       "      <th>absences</th>\n",
       "      <th>G1</th>\n",
       "      <th>G2</th>\n",
       "      <th>G3</th>\n",
       "    </tr>\n",
       "  </thead>\n",
       "  <tbody>\n",
       "    <tr>\n",
       "      <th>0</th>\n",
       "      <td>GP</td>\n",
       "      <td>F</td>\n",
       "      <td>18</td>\n",
       "      <td>U</td>\n",
       "      <td>GT3</td>\n",
       "      <td>A</td>\n",
       "      <td>4</td>\n",
       "      <td>4</td>\n",
       "      <td>at_home</td>\n",
       "      <td>teacher</td>\n",
       "      <td>...</td>\n",
       "      <td>4</td>\n",
       "      <td>3</td>\n",
       "      <td>4</td>\n",
       "      <td>1</td>\n",
       "      <td>1</td>\n",
       "      <td>3</td>\n",
       "      <td>6</td>\n",
       "      <td>5</td>\n",
       "      <td>6</td>\n",
       "      <td>6</td>\n",
       "    </tr>\n",
       "    <tr>\n",
       "      <th>1</th>\n",
       "      <td>GP</td>\n",
       "      <td>F</td>\n",
       "      <td>17</td>\n",
       "      <td>U</td>\n",
       "      <td>GT3</td>\n",
       "      <td>T</td>\n",
       "      <td>1</td>\n",
       "      <td>1</td>\n",
       "      <td>at_home</td>\n",
       "      <td>other</td>\n",
       "      <td>...</td>\n",
       "      <td>5</td>\n",
       "      <td>3</td>\n",
       "      <td>3</td>\n",
       "      <td>1</td>\n",
       "      <td>1</td>\n",
       "      <td>3</td>\n",
       "      <td>4</td>\n",
       "      <td>5</td>\n",
       "      <td>5</td>\n",
       "      <td>6</td>\n",
       "    </tr>\n",
       "    <tr>\n",
       "      <th>2</th>\n",
       "      <td>GP</td>\n",
       "      <td>F</td>\n",
       "      <td>15</td>\n",
       "      <td>U</td>\n",
       "      <td>LE3</td>\n",
       "      <td>T</td>\n",
       "      <td>1</td>\n",
       "      <td>1</td>\n",
       "      <td>at_home</td>\n",
       "      <td>other</td>\n",
       "      <td>...</td>\n",
       "      <td>4</td>\n",
       "      <td>3</td>\n",
       "      <td>2</td>\n",
       "      <td>2</td>\n",
       "      <td>3</td>\n",
       "      <td>3</td>\n",
       "      <td>10</td>\n",
       "      <td>7</td>\n",
       "      <td>8</td>\n",
       "      <td>10</td>\n",
       "    </tr>\n",
       "    <tr>\n",
       "      <th>3</th>\n",
       "      <td>GP</td>\n",
       "      <td>F</td>\n",
       "      <td>15</td>\n",
       "      <td>U</td>\n",
       "      <td>GT3</td>\n",
       "      <td>T</td>\n",
       "      <td>4</td>\n",
       "      <td>2</td>\n",
       "      <td>health</td>\n",
       "      <td>services</td>\n",
       "      <td>...</td>\n",
       "      <td>3</td>\n",
       "      <td>2</td>\n",
       "      <td>2</td>\n",
       "      <td>1</td>\n",
       "      <td>1</td>\n",
       "      <td>5</td>\n",
       "      <td>2</td>\n",
       "      <td>15</td>\n",
       "      <td>14</td>\n",
       "      <td>15</td>\n",
       "    </tr>\n",
       "    <tr>\n",
       "      <th>4</th>\n",
       "      <td>GP</td>\n",
       "      <td>F</td>\n",
       "      <td>16</td>\n",
       "      <td>U</td>\n",
       "      <td>GT3</td>\n",
       "      <td>T</td>\n",
       "      <td>3</td>\n",
       "      <td>3</td>\n",
       "      <td>other</td>\n",
       "      <td>other</td>\n",
       "      <td>...</td>\n",
       "      <td>4</td>\n",
       "      <td>3</td>\n",
       "      <td>2</td>\n",
       "      <td>1</td>\n",
       "      <td>2</td>\n",
       "      <td>5</td>\n",
       "      <td>4</td>\n",
       "      <td>6</td>\n",
       "      <td>10</td>\n",
       "      <td>10</td>\n",
       "    </tr>\n",
       "    <tr>\n",
       "      <th>...</th>\n",
       "      <td>...</td>\n",
       "      <td>...</td>\n",
       "      <td>...</td>\n",
       "      <td>...</td>\n",
       "      <td>...</td>\n",
       "      <td>...</td>\n",
       "      <td>...</td>\n",
       "      <td>...</td>\n",
       "      <td>...</td>\n",
       "      <td>...</td>\n",
       "      <td>...</td>\n",
       "      <td>...</td>\n",
       "      <td>...</td>\n",
       "      <td>...</td>\n",
       "      <td>...</td>\n",
       "      <td>...</td>\n",
       "      <td>...</td>\n",
       "      <td>...</td>\n",
       "      <td>...</td>\n",
       "      <td>...</td>\n",
       "      <td>...</td>\n",
       "    </tr>\n",
       "    <tr>\n",
       "      <th>390</th>\n",
       "      <td>MS</td>\n",
       "      <td>M</td>\n",
       "      <td>20</td>\n",
       "      <td>U</td>\n",
       "      <td>LE3</td>\n",
       "      <td>A</td>\n",
       "      <td>2</td>\n",
       "      <td>2</td>\n",
       "      <td>services</td>\n",
       "      <td>services</td>\n",
       "      <td>...</td>\n",
       "      <td>5</td>\n",
       "      <td>5</td>\n",
       "      <td>4</td>\n",
       "      <td>4</td>\n",
       "      <td>5</td>\n",
       "      <td>4</td>\n",
       "      <td>11</td>\n",
       "      <td>9</td>\n",
       "      <td>9</td>\n",
       "      <td>9</td>\n",
       "    </tr>\n",
       "    <tr>\n",
       "      <th>391</th>\n",
       "      <td>MS</td>\n",
       "      <td>M</td>\n",
       "      <td>17</td>\n",
       "      <td>U</td>\n",
       "      <td>LE3</td>\n",
       "      <td>T</td>\n",
       "      <td>3</td>\n",
       "      <td>1</td>\n",
       "      <td>services</td>\n",
       "      <td>services</td>\n",
       "      <td>...</td>\n",
       "      <td>2</td>\n",
       "      <td>4</td>\n",
       "      <td>5</td>\n",
       "      <td>3</td>\n",
       "      <td>4</td>\n",
       "      <td>2</td>\n",
       "      <td>3</td>\n",
       "      <td>14</td>\n",
       "      <td>16</td>\n",
       "      <td>16</td>\n",
       "    </tr>\n",
       "    <tr>\n",
       "      <th>392</th>\n",
       "      <td>MS</td>\n",
       "      <td>M</td>\n",
       "      <td>21</td>\n",
       "      <td>R</td>\n",
       "      <td>GT3</td>\n",
       "      <td>T</td>\n",
       "      <td>1</td>\n",
       "      <td>1</td>\n",
       "      <td>other</td>\n",
       "      <td>other</td>\n",
       "      <td>...</td>\n",
       "      <td>5</td>\n",
       "      <td>5</td>\n",
       "      <td>3</td>\n",
       "      <td>3</td>\n",
       "      <td>3</td>\n",
       "      <td>3</td>\n",
       "      <td>3</td>\n",
       "      <td>10</td>\n",
       "      <td>8</td>\n",
       "      <td>7</td>\n",
       "    </tr>\n",
       "    <tr>\n",
       "      <th>393</th>\n",
       "      <td>MS</td>\n",
       "      <td>M</td>\n",
       "      <td>18</td>\n",
       "      <td>R</td>\n",
       "      <td>LE3</td>\n",
       "      <td>T</td>\n",
       "      <td>3</td>\n",
       "      <td>2</td>\n",
       "      <td>services</td>\n",
       "      <td>other</td>\n",
       "      <td>...</td>\n",
       "      <td>4</td>\n",
       "      <td>4</td>\n",
       "      <td>1</td>\n",
       "      <td>3</td>\n",
       "      <td>4</td>\n",
       "      <td>5</td>\n",
       "      <td>0</td>\n",
       "      <td>11</td>\n",
       "      <td>12</td>\n",
       "      <td>10</td>\n",
       "    </tr>\n",
       "    <tr>\n",
       "      <th>394</th>\n",
       "      <td>MS</td>\n",
       "      <td>M</td>\n",
       "      <td>19</td>\n",
       "      <td>U</td>\n",
       "      <td>LE3</td>\n",
       "      <td>T</td>\n",
       "      <td>1</td>\n",
       "      <td>1</td>\n",
       "      <td>other</td>\n",
       "      <td>at_home</td>\n",
       "      <td>...</td>\n",
       "      <td>3</td>\n",
       "      <td>2</td>\n",
       "      <td>3</td>\n",
       "      <td>3</td>\n",
       "      <td>3</td>\n",
       "      <td>5</td>\n",
       "      <td>5</td>\n",
       "      <td>8</td>\n",
       "      <td>9</td>\n",
       "      <td>9</td>\n",
       "    </tr>\n",
       "  </tbody>\n",
       "</table>\n",
       "<p>395 rows × 33 columns</p>\n",
       "</div>"
      ],
      "text/plain": [
       "    school sex  age address famsize Pstatus  Medu  Fedu      Mjob      Fjob  \\\n",
       "0       GP   F   18       U     GT3       A     4     4   at_home   teacher   \n",
       "1       GP   F   17       U     GT3       T     1     1   at_home     other   \n",
       "2       GP   F   15       U     LE3       T     1     1   at_home     other   \n",
       "3       GP   F   15       U     GT3       T     4     2    health  services   \n",
       "4       GP   F   16       U     GT3       T     3     3     other     other   \n",
       "..     ...  ..  ...     ...     ...     ...   ...   ...       ...       ...   \n",
       "390     MS   M   20       U     LE3       A     2     2  services  services   \n",
       "391     MS   M   17       U     LE3       T     3     1  services  services   \n",
       "392     MS   M   21       R     GT3       T     1     1     other     other   \n",
       "393     MS   M   18       R     LE3       T     3     2  services     other   \n",
       "394     MS   M   19       U     LE3       T     1     1     other   at_home   \n",
       "\n",
       "     ... famrel freetime  goout  Dalc  Walc health absences  G1  G2  G3  \n",
       "0    ...      4        3      4     1     1      3        6   5   6   6  \n",
       "1    ...      5        3      3     1     1      3        4   5   5   6  \n",
       "2    ...      4        3      2     2     3      3       10   7   8  10  \n",
       "3    ...      3        2      2     1     1      5        2  15  14  15  \n",
       "4    ...      4        3      2     1     2      5        4   6  10  10  \n",
       "..   ...    ...      ...    ...   ...   ...    ...      ...  ..  ..  ..  \n",
       "390  ...      5        5      4     4     5      4       11   9   9   9  \n",
       "391  ...      2        4      5     3     4      2        3  14  16  16  \n",
       "392  ...      5        5      3     3     3      3        3  10   8   7  \n",
       "393  ...      4        4      1     3     4      5        0  11  12  10  \n",
       "394  ...      3        2      3     3     3      5        5   8   9   9  \n",
       "\n",
       "[395 rows x 33 columns]"
      ]
     },
     "execution_count": 2,
     "metadata": {},
     "output_type": "execute_result"
    }
   ],
   "source": [
    "df = pd.read_csv('student_data.csv')\n",
    "df"
   ]
  },
  {
   "cell_type": "code",
   "execution_count": 3,
   "id": "a2f02e28",
   "metadata": {},
   "outputs": [],
   "source": [
    "# Use these to get some basic information about the dataset.\n",
    "\n",
    "# print(df.shape)\n",
    "# print(df.describe())\n",
    "# print(df.info())"
   ]
  },
  {
   "cell_type": "code",
   "execution_count": 4,
   "id": "d8c7901c",
   "metadata": {},
   "outputs": [
    {
     "name": "stdout",
     "output_type": "stream",
     "text": [
      "school        0\n",
      "sex           0\n",
      "age           0\n",
      "address       0\n",
      "famsize       0\n",
      "Pstatus       0\n",
      "Medu          0\n",
      "Fedu          0\n",
      "Mjob          0\n",
      "Fjob          0\n",
      "reason        0\n",
      "guardian      0\n",
      "traveltime    0\n",
      "studytime     0\n",
      "failures      0\n",
      "schoolsup     0\n",
      "famsup        0\n",
      "paid          0\n",
      "activities    0\n",
      "nursery       0\n",
      "higher        0\n",
      "internet      0\n",
      "romantic      0\n",
      "famrel        0\n",
      "freetime      0\n",
      "goout         0\n",
      "Dalc          0\n",
      "Walc          0\n",
      "health        0\n",
      "absences      0\n",
      "G1            0\n",
      "G2            0\n",
      "G3            0\n",
      "dtype: int64\n"
     ]
    }
   ],
   "source": [
    "print(df.isnull().sum())"
   ]
  },
  {
   "cell_type": "markdown",
   "id": "ebce67fc",
   "metadata": {},
   "source": [
    "We can see that we're not missing any data. This is to be expected since I took this from Kaggle and the data has already been cleaned by the uploader. However that's totally fine, we can still do a lot of great stuff with it."
   ]
  },
  {
   "cell_type": "markdown",
   "id": "8320785f",
   "metadata": {},
   "source": [
    "# Basic Graphs"
   ]
  },
  {
   "cell_type": "markdown",
   "id": "35a6365b",
   "metadata": {},
   "source": [
    "Let's start off by making some basic graphs to visualize our dataset. In my histogram below, we can see that this dataset is skewed towards teenagers/young adults from ages 15 - 19. Since my dataset is taken from Kaggle, the uploaded has informed us that the dataset is taken from a math course from a secondary school."
   ]
  },
  {
   "cell_type": "code",
   "execution_count": 5,
   "id": "d48bb816",
   "metadata": {},
   "outputs": [
    {
     "data": {
      "image/png": "[encoded data removed]",
      "text/plain": [
       "<Figure size 720x432 with 1 Axes>"
      ]
     },
     "metadata": {
      "needs_background": "light"
     },
     "output_type": "display_data"
    }
   ],
   "source": [
    "plt.figure(figsize = (10, 6))\n",
    "sns.histplot(df['age'], bins = 8, kde = False, color = 'forestgreen')\n",
    "plt.title('Histogram of Student Ages')\n",
    "plt.xlabel('Age')\n",
    "plt.ylabel('Frequency')\n",
    "plt.show()"
   ]
  },
  {
   "cell_type": "code",
   "execution_count": 6,
   "id": "f47f04c1",
   "metadata": {},
   "outputs": [
    {
     "name": "stderr",
     "output_type": "stream",
     "text": [
      "No artists with labels found to put in legend.  Note that artists whose label start with an underscore are ignored when legend() is called with no argument.\n"
     ]
    },
    {
     "data": {
      "image/png": "[encoded data removed]",
      "text/plain": [
       "<Figure size 720x432 with 1 Axes>"
      ]
     },
     "metadata": {
      "needs_background": "light"
     },
     "output_type": "display_data"
    }
   ],
   "source": [
    "boxplot_colors = [\"#F8C8DC\", \"#6F8FAF\"]\n",
    "plt.figure(figsize = (10, 6))\n",
    "sns.boxplot(x = 'sex', y = 'G3', hue = 'sex', data = df, palette = boxplot_colors, legend = False)\n",
    "plt.title('Box plot of Final Grades by Sex')\n",
    "plt.legend().remove()\n",
    "plt.show()"
   ]
  },
  {
   "cell_type": "markdown",
   "id": "8f699c5e",
   "metadata": {},
   "source": [
    "Based on this boxplot I've created which shows the distribution of final grades for students, it looks like male students have a slightly higher final grade. \n",
    "\n",
    "The line in the middle of each box represents the median grade and it looks like the median final grade for male students is higher.\n",
    "The box itself shows the IQR and a larger box might indicate greater variability.\n",
    "The whiskers provide a sense of how spread out the grades are and the black dots at the bottom can indicate outliers."
   ]
  },
  {
   "cell_type": "code",
   "execution_count": 7,
   "id": "423e2187",
   "metadata": {},
   "outputs": [
    {
     "data": {
      "image/png": "[encoded data removed]",
      "text/plain": [
       "<Figure size 720x432 with 1 Axes>"
      ]
     },
     "metadata": {
      "needs_background": "light"
     },
     "output_type": "display_data"
    }
   ],
   "source": [
    "avg_grades_by_leisure = df.groupby('goout')['G3'].mean()\n",
    "\n",
    "plt.figure(figsize = (10, 6))\n",
    "avg_grades_by_leisure.plot(kind = 'line')\n",
    "plt.title('Average Final Grade by Leisure Time')\n",
    "plt.xlabel('Leisure Time in Hours')\n",
    "plt.ylabel('Average Final Grade (G3)')\n",
    "plt.xticks(avg_grades_by_leisure.index)\n",
    "plt.grid(True)\n",
    "plt.show()"
   ]
  },
  {
   "cell_type": "markdown",
   "id": "b2c0719a",
   "metadata": {},
   "source": [
    "This line chart quickly shows the relationship between grades and leisurely time that students partake in. It looks like grades increase when students have time to relax which makes sense since it's important to take breaks every often between studying. However, if they engage in leisurely activities for too long, they won't have time to study and that causes their grades to suffer."
   ]
  },
  {
   "cell_type": "markdown",
   "id": "fb722d9a",
   "metadata": {},
   "source": [
    "# ANOVA Testing"
   ]
  },
  {
   "cell_type": "markdown",
   "id": "b92aede0",
   "metadata": {},
   "source": [
    "I want to see if the groups of data we have is statistically different between 4 sets of \"studytime\" variables. In our dataset, \"studytime\" has four categories (1, 2, 3, 4) and I want to see whether the mean final grade differs significantly across these categories. 1 means a student studied minimal hours and 4 means they studied a lot. In order to do this, I'm going to do some ANOVA testing to compare each group. This is important in our analysis because study time is important to how well students perform. If students' study and they do well, that would show that studying is a good predictor of success."
   ]
  },
  {
   "cell_type": "code",
   "execution_count": 8,
   "id": "e440c24b",
   "metadata": {},
   "outputs": [
    {
     "name": "stdout",
     "output_type": "stream",
     "text": [
      "ANOVA result for studytime and G3: F=1.7278351054436039, p=0.1607228096836598\n"
     ]
    }
   ],
   "source": [
    "anova_studytime = stats.f_oneway(\n",
    "    df['G3'][df['studytime'] == 1],\n",
    "    df['G3'][df['studytime'] == 2],\n",
    "    df['G3'][df['studytime'] == 3],\n",
    "    df['G3'][df['studytime'] == 4])\n",
    "print(f\"ANOVA result for studytime and G3: F={anova_studytime.statistic}, p={anova_studytime.pvalue}\")"
   ]
  },
  {
   "cell_type": "code",
   "execution_count": 9,
   "id": "5b787b8f",
   "metadata": {},
   "outputs": [
    {
     "data": {
      "text/plain": [
       "<Figure size 576x432 with 0 Axes>"
      ]
     },
     "metadata": {},
     "output_type": "display_data"
    },
    {
     "data": {
      "image/png": "[encoded data removed]",
      "text/plain": [
       "<Figure size 432x288 with 1 Axes>"
      ]
     },
     "metadata": {
      "needs_background": "light"
     },
     "output_type": "display_data"
    }
   ],
   "source": [
    "plt.figure(figsize = (8, 6))\n",
    "df.boxplot('G3', by = 'studytime', grid = False)\n",
    "plt.title('Final Grade by Study Time')\n",
    "plt.suptitle('') # Suppress the default title\n",
    "plt.xlabel('Study Time Category')\n",
    "plt.ylabel('Final Grade (G3)')\n",
    "plt.show()"
   ]
  },
  {
   "cell_type": "markdown",
   "id": "ee8c7592",
   "metadata": {},
   "source": [
    "Based on our ANOVA results, it looks like our large F-statistic implies that there is some difference between the group means, but is not large relative to the variance within the groups. Our p-value is greater than the usual common alpha level of 0.05, which means that we do not have enough evidence to reject the null hypothesis. In summary, it looks like there is no statistically significant difference in grades among the different levels of study time which is a bit disappointing since I would think that it's the opposite. It may be possible that there are other factors in play and that just studytime alone is not enough to detect trends. I have also built another boxplot to show the differences in grades based on the aforementioned four categories of studytime."
   ]
  },
  {
   "cell_type": "markdown",
   "id": "1649d891",
   "metadata": {},
   "source": [
    "# Feature Engineering and Regression Model"
   ]
  },
  {
   "cell_type": "markdown",
   "id": "7e67d76f",
   "metadata": {},
   "source": [
    "I am very skeptical about my observation above. Given what we know about studying in the real world, it would be correct to assume that more studytime would lead to better grades. If that wasn't the case, I would have gotten straight As through college with minimal studying. I would have played a lot more computer games if that was the case."
   ]
  },
  {
   "cell_type": "markdown",
   "id": "1f7574c4",
   "metadata": {},
   "source": [
    "I'm going to build a regression plot with a combination of the traveltime and studytime variables to determine if there is a correlation between academic performance. I want to explore whether a balance of these two items, has a linear relationship with grades.\n",
    "\n",
    "In my code block below, I've created a new variable called Productivity which is a combination of the traveltime and studytime variables. The coefficients used (1 and 2) are the weights I'm assigned to each time variable. In this exercise, I'm assuming that studytime is weighted more heavily than travel time since I think that's a more important indicator of student performance."
   ]
  },
  {
   "cell_type": "code",
   "execution_count": 10,
   "id": "3322ad35",
   "metadata": {
    "scrolled": true
   },
   "outputs": [
    {
     "data": {
      "text/plain": [
       "<AxesSubplot:xlabel='Productivity', ylabel='G3'>"
      ]
     },
     "execution_count": 10,
     "metadata": {},
     "output_type": "execute_result"
    },
    {
     "data": {
      "image/png": "[encoded data removed]",
      "text/plain": [
       "<Figure size 432x288 with 1 Axes>"
      ]
     },
     "metadata": {
      "needs_background": "light"
     },
     "output_type": "display_data"
    }
   ],
   "source": [
    "df['Productivity'] = 1 * df['traveltime'] + 2 * df['studytime']\n",
    "sns.regplot(x ='Productivity', y = 'G3', data = df)"
   ]
  },
  {
   "cell_type": "code",
   "execution_count": 11,
   "id": "98a20e1b",
   "metadata": {},
   "outputs": [
    {
     "data": {
      "text/plain": [
       "<AxesSubplot:xlabel='traveltime', ylabel='G3'>"
      ]
     },
     "execution_count": 11,
     "metadata": {},
     "output_type": "execute_result"
    },
    {
     "data": {
      "image/png": "[encoded data removed]",
      "text/plain": [
       "<Figure size 432x288 with 1 Axes>"
      ]
     },
     "metadata": {
      "needs_background": "light"
     },
     "output_type": "display_data"
    }
   ],
   "source": [
    "sns.regplot(x = 'traveltime', y = 'G3', data = df)"
   ]
  },
  {
   "cell_type": "markdown",
   "id": "e319532d",
   "metadata": {},
   "source": [
    "As expected, students with greater productivity have better grades. These two graphs are much more in line with what expected results are. I've also graphed a chart displaying that the longer a student commutes, the worse their grades are. With a little legwork, we were able to confirm that students who study more receive better grades and that students who travel more receive lower grades."
   ]
  },
  {
   "cell_type": "code",
   "execution_count": 12,
   "id": "71ad601c",
   "metadata": {},
   "outputs": [
    {
     "data": {
      "text/plain": [
       "<AxesSubplot:xlabel='Romantic_Freetime', ylabel='G3'>"
      ]
     },
     "execution_count": 12,
     "metadata": {},
     "output_type": "execute_result"
    },
    {
     "data": {
      "image/png": "[encoded data removed]",
      "text/plain": [
       "<Figure size 432x288 with 1 Axes>"
      ]
     },
     "metadata": {
      "needs_background": "light"
     },
     "output_type": "display_data"
    }
   ],
   "source": [
    "df['romantic'] = df['romantic'].map({'yes': 1, 'no': 0})\n",
    "df['Romantic_Freetime'] = df['romantic'] + df['freetime']\n",
    "sns.regplot(x = 'Romantic_Freetime', y = 'G3', data = df)"
   ]
  },
  {
   "cell_type": "markdown",
   "id": "f0e96d47",
   "metadata": {},
   "source": [
    "High school is also a prime time for when teenagers enter relationships for the first time. I was curious about whether or not relationships impact grades and it looks like it does! Being in a relationship can be tough and so there is a lot of time and effort that is needed."
   ]
  },
  {
   "cell_type": "markdown",
   "id": "c0292c93",
   "metadata": {},
   "source": [
    "I want to do some regression analysis to understand the relationships between parent status (living together or seperated), quality of family relationship and final grades. This is crucial because studies have shown that students who come from families that are not stable, tend to perform poorly compared to their peers."
   ]
  },
  {
   "cell_type": "code",
   "execution_count": 13,
   "id": "c4efeccb",
   "metadata": {},
   "outputs": [
    {
     "name": "stdout",
     "output_type": "stream",
     "text": [
      "                            OLS Regression Results                            \n",
      "==============================================================================\n",
      "Dep. Variable:                     G3   R-squared:                       0.006\n",
      "Model:                            OLS   Adj. R-squared:                  0.001\n",
      "Method:                 Least Squares   F-statistic:                     1.214\n",
      "Date:                Sun, 03 Dec 2023   Prob (F-statistic):              0.298\n",
      "Time:                        22:50:22   Log-Likelihood:                -1160.0\n",
      "No. Observations:                 395   AIC:                             2326.\n",
      "Df Residuals:                     392   BIC:                             2338.\n",
      "Df Model:                           2                                         \n",
      "Covariance Type:            nonrobust                                         \n",
      "==============================================================================\n",
      "                 coef    std err          t      P>|t|      [0.025      0.975]\n",
      "------------------------------------------------------------------------------\n",
      "const         10.1478      1.228      8.265      0.000       7.734      12.562\n",
      "Pstatus       -0.8902      0.756     -1.178      0.239      -2.376       0.595\n",
      "famrel         0.2701      0.257      1.049      0.295      -0.236       0.776\n",
      "==============================================================================\n",
      "Omnibus:                       31.377   Durbin-Watson:                   1.990\n",
      "Prob(Omnibus):                  0.000   Jarque-Bera (JB):               36.549\n",
      "Skew:                          -0.724   Prob(JB):                     1.16e-08\n",
      "Kurtosis:                       3.351   Cond. No.                         24.4\n",
      "==============================================================================\n",
      "\n",
      "Notes:\n",
      "[1] Standard Errors assume that the covariance matrix of the errors is correctly specified.\n"
     ]
    }
   ],
   "source": [
    "df['Pstatus'] = df['Pstatus'].map({'T': 1, 'A': 0})\n",
    "\n",
    "X = df[['Pstatus', 'famrel']]\n",
    "y = df['G3']\n",
    "X = sm.add_constant(X)\n",
    "\n",
    "# Perform regression\n",
    "model = sm.OLS(y, X).fit()\n",
    "print(model.summary())"
   ]
  },
  {
   "cell_type": "markdown",
   "id": "20c9b8be",
   "metadata": {},
   "source": [
    "R-squared: Looks very low, suggesting that the model does not explain much variation in final grades\n",
    "\n",
    "Adjusted R-squared: Similar to above, also very low\n",
    "\n",
    "Prob (F-statistic): The corresponding p-value is higher than 0.05, which suggests that the data is not statistically significant\n",
    "\n",
    "Pstatus: This coefficient suggests that there is a decrease of 0.89 points in the ifnal grade when parents are living apart. However, the p-value is also greater than 0.05, indicating that the relationship is not statistically significant.\n",
    "\n",
    "famrel: This coefficient suggests that for each unit increase in \"famrel\", the final grade increases by 0.27, but like the one above, is also not statistically significant.\n",
    "\n",
    "Overall, my regression model seems to suggest that neither \"Pstatus\" or \"famrel\" has a statistically significant impact on final grades. This lack of significance is a bit concerning, since I would assume that there is some sort of negative relationship present."
   ]
  },
  {
   "cell_type": "markdown",
   "id": "c8e39ec7",
   "metadata": {},
   "source": [
    "# Conclusion"
   ]
  },
  {
   "cell_type": "markdown",
   "id": "215d0a2f",
   "metadata": {},
   "source": [
    "I worked on this project to explore the relationship between different variables such as relationships, study time, travel time, parent status, etc to understand how these factors impact student grades. It was a great experience doing data analysis on a large dataset to try and validate my hypothesis. In summary, my biggest takeaway was that individual factors seem to contribute less to how students performed. However, if we were to combine different factors, those new variables did show a statistically significant correlation with academic performance. That makes sense because in the real world, students juggle a plethora of situations in their daily life. Whether we're bombarded with family issues or the need to commute to school, these small things eventually do add up.\n",
    "\n",
    "Although this study was interesting and validated a lot of my beliefs, a limitation of this study is within its limited scope. This dataset included only data from a survey of a students' math class in secondary school. That's data for only one singular class! I would really have liked the opportunity to deep dive into a larger dataset with more classes, more student demographics and more resources which could also play a huge role in student performance.\n",
    "\n",
    "If I were to work on something like this again in the future, I would want to combine different datasets in order to bridge even more variables. Imagine if I had variables like teacher-student ratio, library time, advanced placement (AP) courses, stress levels, self-esteem, etc. Incorporating these variables into education research can provide a more detailed view into the academic performance world. We can then use that data to come up with policies that can help students reach their academic goals.\n",
    "\n",
    "This project was really impactful and highlights the many variables that shows what it takes for a student to excel."
   ]
  }
 ],
 "metadata": {
  "kernelspec": {
   "display_name": "Python 3 (ipykernel)",
   "language": "python",
   "name": "python3"
  },
  "language_info": {
   "codemirror_mode": {
    "name": "ipython",
    "version": 3
   },
   "file_extension": ".py",
   "mimetype": "text/x-python",
   "name": "python",
   "nbconvert_exporter": "python",
   "pygments_lexer": "ipython3",
   "version": "3.9.12"
  }
 },
 "nbformat": 4,
 "nbformat_minor": 5
}
